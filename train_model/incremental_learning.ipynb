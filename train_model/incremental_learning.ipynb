{
 "cells": [
  {
   "cell_type": "code",
   "execution_count": 10,
   "metadata": {
    "collapsed": true
   },
   "outputs": [
    {
     "data": {
      "text/plain": "                                                                                                review  \\\n0  As someone who has worked with many museums, I was eager to visit this gallery on my most recent...   \n1  I am actually horrified this place is still in business. My 3 year old son needed a haircut this...   \n2  I love Deagan's. I do. I really do. The atmosphere is cozy and festive. The shrimp tacos and hou...   \n3  Dismal, lukewarm, defrosted-tasting \"TexMex\" glop;\\n\\nMumbly, unengaged waiter;\\n\\nClueless mana...   \n4  Oh happy day, finally have a Canes near my casa. Yes just as others are griping about the Drive ...   \n5  This is definitely my favorite fast food sub shop. Ingredients are everything, and everything I ...   \n6  Really good place with simple decor, amazing food and great hospitality.\\nVery impressed with th...   \n7  Awesome office and staff, very professional and friendly. I saw Adam Garling PA-C and his assist...   \n8  Most delicious authentic Italian I've had in the US. You wouldn't leave this place unhappy. The ...   \n9  I have been here twice. Very nice and laid back. I tried the weekend Southern menu and it was de...   \n\n  sentiment  \n0  negative  \n1  negative  \n2  positive  \n3  negative  \n4  positive  \n5  positive  \n6  positive  \n7  positive  \n8  positive  \n9  positive  ",
      "text/html": "<div>\n<style scoped>\n    .dataframe tbody tr th:only-of-type {\n        vertical-align: middle;\n    }\n\n    .dataframe tbody tr th {\n        vertical-align: top;\n    }\n\n    .dataframe thead th {\n        text-align: right;\n    }\n</style>\n<table border=\"1\" class=\"dataframe\">\n  <thead>\n    <tr style=\"text-align: right;\">\n      <th></th>\n      <th>review</th>\n      <th>sentiment</th>\n    </tr>\n  </thead>\n  <tbody>\n    <tr>\n      <th>0</th>\n      <td>As someone who has worked with many museums, I was eager to visit this gallery on my most recent...</td>\n      <td>negative</td>\n    </tr>\n    <tr>\n      <th>1</th>\n      <td>I am actually horrified this place is still in business. My 3 year old son needed a haircut this...</td>\n      <td>negative</td>\n    </tr>\n    <tr>\n      <th>2</th>\n      <td>I love Deagan's. I do. I really do. The atmosphere is cozy and festive. The shrimp tacos and hou...</td>\n      <td>positive</td>\n    </tr>\n    <tr>\n      <th>3</th>\n      <td>Dismal, lukewarm, defrosted-tasting \"TexMex\" glop;\\n\\nMumbly, unengaged waiter;\\n\\nClueless mana...</td>\n      <td>negative</td>\n    </tr>\n    <tr>\n      <th>4</th>\n      <td>Oh happy day, finally have a Canes near my casa. Yes just as others are griping about the Drive ...</td>\n      <td>positive</td>\n    </tr>\n    <tr>\n      <th>5</th>\n      <td>This is definitely my favorite fast food sub shop. Ingredients are everything, and everything I ...</td>\n      <td>positive</td>\n    </tr>\n    <tr>\n      <th>6</th>\n      <td>Really good place with simple decor, amazing food and great hospitality.\\nVery impressed with th...</td>\n      <td>positive</td>\n    </tr>\n    <tr>\n      <th>7</th>\n      <td>Awesome office and staff, very professional and friendly. I saw Adam Garling PA-C and his assist...</td>\n      <td>positive</td>\n    </tr>\n    <tr>\n      <th>8</th>\n      <td>Most delicious authentic Italian I've had in the US. You wouldn't leave this place unhappy. The ...</td>\n      <td>positive</td>\n    </tr>\n    <tr>\n      <th>9</th>\n      <td>I have been here twice. Very nice and laid back. I tried the weekend Southern menu and it was de...</td>\n      <td>positive</td>\n    </tr>\n  </tbody>\n</table>\n</div>"
     },
     "metadata": {},
     "output_type": "display_data"
    },
    {
     "data": {
      "text/plain": "(20000, 2)"
     },
     "metadata": {},
     "output_type": "display_data"
    },
    {
     "data": {
      "text/plain": "                                                                                                review  \\\n0  As someone who has worked with many museums, I was eager to visit this gallery on my most recent...   \n1  I am actually horrified this place is still in business. My 3 year old son needed a haircut this...   \n2  I love Deagan's. I do. I really do. The atmosphere is cozy and festive. The shrimp tacos and hou...   \n3  Dismal, lukewarm, defrosted-tasting \"TexMex\" glop;\\n\\nMumbly, unengaged waiter;\\n\\nClueless mana...   \n4  Oh happy day, finally have a Canes near my casa. Yes just as others are griping about the Drive ...   \n5  This is definitely my favorite fast food sub shop. Ingredients are everything, and everything I ...   \n6  Really good place with simple decor, amazing food and great hospitality.\\nVery impressed with th...   \n7  Awesome office and staff, very professional and friendly. I saw Adam Garling PA-C and his assist...   \n8  Most delicious authentic Italian I've had in the US. You wouldn't leave this place unhappy. The ...   \n9  I have been here twice. Very nice and laid back. I tried the weekend Southern menu and it was de...   \n\n  sentiment  \n0  negative  \n1  negative  \n2  positive  \n3  negative  \n4  positive  \n5  positive  \n6  positive  \n7  positive  \n8  positive  \n9  positive  ",
      "text/html": "<div>\n<style scoped>\n    .dataframe tbody tr th:only-of-type {\n        vertical-align: middle;\n    }\n\n    .dataframe tbody tr th {\n        vertical-align: top;\n    }\n\n    .dataframe thead th {\n        text-align: right;\n    }\n</style>\n<table border=\"1\" class=\"dataframe\">\n  <thead>\n    <tr style=\"text-align: right;\">\n      <th></th>\n      <th>review</th>\n      <th>sentiment</th>\n    </tr>\n  </thead>\n  <tbody>\n    <tr>\n      <th>0</th>\n      <td>As someone who has worked with many museums, I was eager to visit this gallery on my most recent...</td>\n      <td>negative</td>\n    </tr>\n    <tr>\n      <th>1</th>\n      <td>I am actually horrified this place is still in business. My 3 year old son needed a haircut this...</td>\n      <td>negative</td>\n    </tr>\n    <tr>\n      <th>2</th>\n      <td>I love Deagan's. I do. I really do. The atmosphere is cozy and festive. The shrimp tacos and hou...</td>\n      <td>positive</td>\n    </tr>\n    <tr>\n      <th>3</th>\n      <td>Dismal, lukewarm, defrosted-tasting \"TexMex\" glop;\\n\\nMumbly, unengaged waiter;\\n\\nClueless mana...</td>\n      <td>negative</td>\n    </tr>\n    <tr>\n      <th>4</th>\n      <td>Oh happy day, finally have a Canes near my casa. Yes just as others are griping about the Drive ...</td>\n      <td>positive</td>\n    </tr>\n    <tr>\n      <th>5</th>\n      <td>This is definitely my favorite fast food sub shop. Ingredients are everything, and everything I ...</td>\n      <td>positive</td>\n    </tr>\n    <tr>\n      <th>6</th>\n      <td>Really good place with simple decor, amazing food and great hospitality.\\nVery impressed with th...</td>\n      <td>positive</td>\n    </tr>\n    <tr>\n      <th>7</th>\n      <td>Awesome office and staff, very professional and friendly. I saw Adam Garling PA-C and his assist...</td>\n      <td>positive</td>\n    </tr>\n    <tr>\n      <th>8</th>\n      <td>Most delicious authentic Italian I've had in the US. You wouldn't leave this place unhappy. The ...</td>\n      <td>positive</td>\n    </tr>\n    <tr>\n      <th>9</th>\n      <td>I have been here twice. Very nice and laid back. I tried the weekend Southern menu and it was de...</td>\n      <td>positive</td>\n    </tr>\n  </tbody>\n</table>\n</div>"
     },
     "metadata": {},
     "output_type": "display_data"
    },
    {
     "data": {
      "text/plain": "(20000, 2)"
     },
     "metadata": {},
     "output_type": "display_data"
    },
    {
     "name": "stdout",
     "output_type": "stream",
     "text": [
      "              precision    recall  f1-score   support\n",
      "\n",
      "    negative       0.91      0.94      0.92      2490\n",
      "    positive       0.94      0.91      0.92      2510\n",
      "\n",
      "    accuracy                           0.92      5000\n",
      "   macro avg       0.92      0.92      0.92      5000\n",
      "weighted avg       0.92      0.92      0.92      5000\n",
      "\n"
     ]
    },
    {
     "data": {
      "text/plain": "<Figure size 432x288 with 2 Axes>",
      "image/png": "[encoded data removed]"
     },
     "metadata": {},
     "output_type": "display_data"
    }
   ],
   "source": [
    "# Run data cleaning process\n",
    "%run clean_data.ipynb\n",
    "\n",
    "# Run model training\n",
    "%run nlp_model.ipynb"
   ]
  },
  {
   "cell_type": "code",
   "execution_count": 11,
   "outputs": [
    {
     "name": "stdout",
     "output_type": "stream",
     "text": [
      "[\"I don't like this place, but it's good\"]\n",
      "['negative']\n"
     ]
    }
   ],
   "source": [
    "# Pre incremental train test (model will predict negative)\n",
    "input = [\"I don't like this place, but it's good\"]\n",
    "print(input)\n",
    "print(clf.predict(cv.transform(input)))"
   ],
   "metadata": {
    "collapsed": false,
    "pycharm": {
     "name": "#%%\n"
    }
   }
  },
  {
   "cell_type": "code",
   "execution_count": 12,
   "outputs": [],
   "source": [
    "# Incremental training\n",
    "X_instance = cv.transform(input)\n",
    "y_instance = ['positive']\n",
    "max_iter = 100\n",
    "\n",
    "for i in range(0, max_iter):\n",
    "    clf.partial_fit(X_instance, y_instance)\n",
    "    if clf.predict(X_instance) == y_instance:\n",
    "        break"
   ],
   "metadata": {
    "collapsed": false,
    "pycharm": {
     "name": "#%%\n"
    }
   }
  },
  {
   "cell_type": "code",
   "execution_count": 13,
   "outputs": [
    {
     "name": "stdout",
     "output_type": "stream",
     "text": [
      "[\"I don't like this place, but it's good\"]\n",
      "['positive']\n"
     ]
    }
   ],
   "source": [
    "# Post incremental train test (weights changed so model will predict positive now)\n",
    "print(input)\n",
    "print(clf.predict(cv.transform(input)))"
   ],
   "metadata": {
    "collapsed": false,
    "pycharm": {
     "name": "#%%\n"
    }
   }
  },
  {
   "cell_type": "code",
   "execution_count": 14,
   "outputs": [
    {
     "data": {
      "text/plain": "['../static/models/review_sentiment.pkl']"
     },
     "execution_count": 14,
     "metadata": {},
     "output_type": "execute_result"
    }
   ],
   "source": [
    "# Save newly trained model\n",
    "joblib.dump(cv, '../static/models/input_transformer.pkl')\n",
    "joblib.dump(clf, '../static/models/review_sentiment.pkl')\n"
   ],
   "metadata": {
    "collapsed": false,
    "pycharm": {
     "name": "#%%\n"
    }
   }
  }
 ],
 "metadata": {
  "kernelspec": {
   "display_name": "Python 3",
   "language": "python",
   "name": "python3"
  },
  "language_info": {
   "codemirror_mode": {
    "name": "ipython",
    "version": 2
   },
   "file_extension": ".py",
   "mimetype": "text/x-python",
   "name": "python",
   "nbconvert_exporter": "python",
   "pygments_lexer": "ipython2",
   "version": "2.7.6"
  }
 },
 "nbformat": 4,
 "nbformat_minor": 0
}