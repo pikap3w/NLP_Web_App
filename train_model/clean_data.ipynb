{
 "cells": [
  {
   "cell_type": "code",
   "execution_count": 12,
   "metadata": {
    "collapsed": true,
    "pycharm": {
     "name": "#%%\n"
    }
   },
   "outputs": [],
   "source": [
    "import pandas as pd\n",
    "# import numpy as np\n",
    "import json\n",
    "from IPython.display import display, HTML\n",
    "\n",
    "pd.set_option('display.max_colwidth', 100)"
   ]
  },
  {
   "cell_type": "code",
   "execution_count": 13,
   "metadata": {
    "pycharm": {
     "name": "#%%\n"
    }
   },
   "outputs": [
    {
     "data": {
      "text/html": [
       "<div>\n",
       "<style scoped>\n",
       "    .dataframe tbody tr th:only-of-type {\n",
       "        vertical-align: middle;\n",
       "    }\n",
       "\n",
       "    .dataframe tbody tr th {\n",
       "        vertical-align: top;\n",
       "    }\n",
       "\n",
       "    .dataframe thead th {\n",
       "        text-align: right;\n",
       "    }\n",
       "</style>\n",
       "<table border=\"1\" class=\"dataframe\">\n",
       "  <thead>\n",
       "    <tr style=\"text-align: right;\">\n",
       "      <th></th>\n",
       "      <th>review</th>\n",
       "      <th>sentiment</th>\n",
       "    </tr>\n",
       "  </thead>\n",
       "  <tbody>\n",
       "    <tr>\n",
       "      <th>0</th>\n",
       "      <td>As someone who has worked with many museums, I was eager to visit this gallery on my most recent...</td>\n",
       "      <td>negative</td>\n",
       "    </tr>\n",
       "    <tr>\n",
       "      <th>1</th>\n",
       "      <td>I am actually horrified this place is still in business. My 3 year old son needed a haircut this...</td>\n",
       "      <td>negative</td>\n",
       "    </tr>\n",
       "    <tr>\n",
       "      <th>2</th>\n",
       "      <td>I love Deagan's. I do. I really do. The atmosphere is cozy and festive. The shrimp tacos and hou...</td>\n",
       "      <td>positive</td>\n",
       "    </tr>\n",
       "    <tr>\n",
       "      <th>3</th>\n",
       "      <td>Dismal, lukewarm, defrosted-tasting \"TexMex\" glop;\\n\\nMumbly, unengaged waiter;\\n\\nClueless mana...</td>\n",
       "      <td>negative</td>\n",
       "    </tr>\n",
       "    <tr>\n",
       "      <th>4</th>\n",
       "      <td>Oh happy day, finally have a Canes near my casa. Yes just as others are griping about the Drive ...</td>\n",
       "      <td>positive</td>\n",
       "    </tr>\n",
       "    <tr>\n",
       "      <th>5</th>\n",
       "      <td>This is definitely my favorite fast food sub shop. Ingredients are everything, and everything I ...</td>\n",
       "      <td>positive</td>\n",
       "    </tr>\n",
       "    <tr>\n",
       "      <th>6</th>\n",
       "      <td>Really good place with simple decor, amazing food and great hospitality.\\nVery impressed with th...</td>\n",
       "      <td>positive</td>\n",
       "    </tr>\n",
       "    <tr>\n",
       "      <th>7</th>\n",
       "      <td>Awesome office and staff, very professional and friendly. I saw Adam Garling PA-C and his assist...</td>\n",
       "      <td>positive</td>\n",
       "    </tr>\n",
       "    <tr>\n",
       "      <th>8</th>\n",
       "      <td>Most delicious authentic Italian I've had in the US. You wouldn't leave this place unhappy. The ...</td>\n",
       "      <td>positive</td>\n",
       "    </tr>\n",
       "    <tr>\n",
       "      <th>9</th>\n",
       "      <td>I have been here twice. Very nice and laid back. I tried the weekend Southern menu and it was de...</td>\n",
       "      <td>positive</td>\n",
       "    </tr>\n",
       "  </tbody>\n",
       "</table>\n",
       "</div>"
      ],
      "text/plain": [
       "                                                                                                review  \\\n",
       "0  As someone who has worked with many museums, I was eager to visit this gallery on my most recent...   \n",
       "1  I am actually horrified this place is still in business. My 3 year old son needed a haircut this...   \n",
       "2  I love Deagan's. I do. I really do. The atmosphere is cozy and festive. The shrimp tacos and hou...   \n",
       "3  Dismal, lukewarm, defrosted-tasting \"TexMex\" glop;\\n\\nMumbly, unengaged waiter;\\n\\nClueless mana...   \n",
       "4  Oh happy day, finally have a Canes near my casa. Yes just as others are griping about the Drive ...   \n",
       "5  This is definitely my favorite fast food sub shop. Ingredients are everything, and everything I ...   \n",
       "6  Really good place with simple decor, amazing food and great hospitality.\\nVery impressed with th...   \n",
       "7  Awesome office and staff, very professional and friendly. I saw Adam Garling PA-C and his assist...   \n",
       "8  Most delicious authentic Italian I've had in the US. You wouldn't leave this place unhappy. The ...   \n",
       "9  I have been here twice. Very nice and laid back. I tried the weekend Southern menu and it was de...   \n",
       "\n",
       "  sentiment  \n",
       "0  negative  \n",
       "1  negative  \n",
       "2  positive  \n",
       "3  negative  \n",
       "4  positive  \n",
       "5  positive  \n",
       "6  positive  \n",
       "7  positive  \n",
       "8  positive  \n",
       "9  positive  "
      ]
     },
     "metadata": {},
     "output_type": "display_data"
    },
    {
     "data": {
      "text/plain": [
       "(20000, 2)"
      ]
     },
     "metadata": {},
     "output_type": "display_data"
    }
   ],
   "source": [
    "data = []\n",
    "\n",
    "# number of records (per label) to keep for training/testing\n",
    "data_count = 10000\n",
    "\n",
    "# counters (positive/negative)\n",
    "count_p = 0\n",
    "count_n = 0\n",
    "\n",
    "# helper variable\n",
    "to_enter = 0\n",
    "\n",
    "# only keep 1, 2, 4, 5 and create balanced dataset by equalizing positive and negative records\n",
    "with open('./yelp_academic_dataset_review.json', encoding=\"utf8\") as f:\n",
    "    for line in f:\n",
    "        review = json.loads(line)\n",
    "        raw_rating = review['stars']\n",
    "\n",
    "        if raw_rating == 3:\n",
    "            continue\n",
    "\n",
    "        if (raw_rating == 1 or raw_rating == 2) and (count_n < data_count):\n",
    "            sentiment = 'negative'\n",
    "            count_n += 1\n",
    "            to_enter = 1\n",
    "        elif (raw_rating  == 4 or raw_rating == 5) and (count_p < data_count):\n",
    "            sentiment = 'positive'\n",
    "            count_p += 1\n",
    "            to_enter = 1\n",
    "\n",
    "        if to_enter == 1:\n",
    "            to_enter = 0\n",
    "            entry = {\n",
    "                'review': review['text'],\n",
    "                'sentiment': sentiment\n",
    "            }\n",
    "            data.append(entry)\n",
    "\n",
    "        if count_p >= data_count and count_n >= data_count:\n",
    "            break\n",
    "\n",
    "    df = pd.DataFrame(data)\n",
    "    display(df.head(10))\n",
    "    display(df.shape)"
   ]
  },
  {
   "cell_type": "code",
   "execution_count": null,
   "metadata": {
    "pycharm": {
     "is_executing": true,
     "name": "#%%\n"
    }
   },
   "outputs": [],
   "source": [
    "\n",
    "# reviews = pd.read_json('./yelp_academic_dataset_review.json', lines=True)\n",
    "# print(reviews)"
   ]
  },
  {
   "cell_type": "code",
   "execution_count": null,
   "metadata": {},
   "outputs": [],
   "source": []
  }
 ],
 "metadata": {
  "kernelspec": {
   "display_name": "Python 3",
   "language": "python",
   "name": "python3"
  },
  "language_info": {
   "codemirror_mode": {
    "name": "ipython",
    "version": 2
   },
   "file_extension": ".py",
   "mimetype": "text/x-python",
   "name": "python",
   "nbconvert_exporter": "python",
   "pygments_lexer": "ipython2",
   "version": "2.7.6"
  }
 },
 "nbformat": 4,
 "nbformat_minor": 1
}